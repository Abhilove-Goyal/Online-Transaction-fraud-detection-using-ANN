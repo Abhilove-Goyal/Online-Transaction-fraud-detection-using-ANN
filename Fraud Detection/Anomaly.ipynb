{
  "cells": [
    {
      "cell_type": "code",
      "execution_count": 1,
      "metadata": {
        "id": "9KAsrrrdifCp"
      },
      "outputs": [],
      "source": [
        "import numpy as np\n",
        "import pandas as pd"
      ]
    },
    {
      "cell_type": "code",
      "execution_count": 2,
      "metadata": {
        "colab": {
          "base_uri": "https://localhost:8080/",
          "height": 226
        },
        "id": "1QD_xe0djVW6",
        "outputId": "5decb0b8-2f6e-4e42-f47d-5891f0737154"
      },
      "outputs": [
        {
          "data": {
            "text/html": [
              "<div>\n",
              "<style scoped>\n",
              "    .dataframe tbody tr th:only-of-type {\n",
              "        vertical-align: middle;\n",
              "    }\n",
              "\n",
              "    .dataframe tbody tr th {\n",
              "        vertical-align: top;\n",
              "    }\n",
              "\n",
              "    .dataframe thead th {\n",
              "        text-align: right;\n",
              "    }\n",
              "</style>\n",
              "<table border=\"1\" class=\"dataframe\">\n",
              "  <thead>\n",
              "    <tr style=\"text-align: right;\">\n",
              "      <th></th>\n",
              "      <th>step</th>\n",
              "      <th>type</th>\n",
              "      <th>amount</th>\n",
              "      <th>nameOrig</th>\n",
              "      <th>oldbalanceOrg</th>\n",
              "      <th>newbalanceOrig</th>\n",
              "      <th>nameDest</th>\n",
              "      <th>oldbalanceDest</th>\n",
              "      <th>newbalanceDest</th>\n",
              "      <th>isFraud</th>\n",
              "      <th>isFlaggedFraud</th>\n",
              "    </tr>\n",
              "  </thead>\n",
              "  <tbody>\n",
              "    <tr>\n",
              "      <th>0</th>\n",
              "      <td>1</td>\n",
              "      <td>PAYMENT</td>\n",
              "      <td>9839.64</td>\n",
              "      <td>C1231006815</td>\n",
              "      <td>170136.0</td>\n",
              "      <td>160296.36</td>\n",
              "      <td>M1979787155</td>\n",
              "      <td>0.0</td>\n",
              "      <td>0.0</td>\n",
              "      <td>0</td>\n",
              "      <td>0</td>\n",
              "    </tr>\n",
              "    <tr>\n",
              "      <th>1</th>\n",
              "      <td>1</td>\n",
              "      <td>PAYMENT</td>\n",
              "      <td>1864.28</td>\n",
              "      <td>C1666544295</td>\n",
              "      <td>21249.0</td>\n",
              "      <td>19384.72</td>\n",
              "      <td>M2044282225</td>\n",
              "      <td>0.0</td>\n",
              "      <td>0.0</td>\n",
              "      <td>0</td>\n",
              "      <td>0</td>\n",
              "    </tr>\n",
              "    <tr>\n",
              "      <th>2</th>\n",
              "      <td>1</td>\n",
              "      <td>TRANSFER</td>\n",
              "      <td>181.00</td>\n",
              "      <td>C1305486145</td>\n",
              "      <td>181.0</td>\n",
              "      <td>0.00</td>\n",
              "      <td>C553264065</td>\n",
              "      <td>0.0</td>\n",
              "      <td>0.0</td>\n",
              "      <td>1</td>\n",
              "      <td>0</td>\n",
              "    </tr>\n",
              "    <tr>\n",
              "      <th>3</th>\n",
              "      <td>1</td>\n",
              "      <td>CASH_OUT</td>\n",
              "      <td>181.00</td>\n",
              "      <td>C840083671</td>\n",
              "      <td>181.0</td>\n",
              "      <td>0.00</td>\n",
              "      <td>C38997010</td>\n",
              "      <td>21182.0</td>\n",
              "      <td>0.0</td>\n",
              "      <td>1</td>\n",
              "      <td>0</td>\n",
              "    </tr>\n",
              "    <tr>\n",
              "      <th>4</th>\n",
              "      <td>1</td>\n",
              "      <td>PAYMENT</td>\n",
              "      <td>11668.14</td>\n",
              "      <td>C2048537720</td>\n",
              "      <td>41554.0</td>\n",
              "      <td>29885.86</td>\n",
              "      <td>M1230701703</td>\n",
              "      <td>0.0</td>\n",
              "      <td>0.0</td>\n",
              "      <td>0</td>\n",
              "      <td>0</td>\n",
              "    </tr>\n",
              "  </tbody>\n",
              "</table>\n",
              "</div>"
            ],
            "text/plain": [
              "   step      type    amount     nameOrig  oldbalanceOrg  newbalanceOrig  \\\n",
              "0     1   PAYMENT   9839.64  C1231006815       170136.0       160296.36   \n",
              "1     1   PAYMENT   1864.28  C1666544295        21249.0        19384.72   \n",
              "2     1  TRANSFER    181.00  C1305486145          181.0            0.00   \n",
              "3     1  CASH_OUT    181.00   C840083671          181.0            0.00   \n",
              "4     1   PAYMENT  11668.14  C2048537720        41554.0        29885.86   \n",
              "\n",
              "      nameDest  oldbalanceDest  newbalanceDest  isFraud  isFlaggedFraud  \n",
              "0  M1979787155             0.0             0.0        0               0  \n",
              "1  M2044282225             0.0             0.0        0               0  \n",
              "2   C553264065             0.0             0.0        1               0  \n",
              "3    C38997010         21182.0             0.0        1               0  \n",
              "4  M1230701703             0.0             0.0        0               0  "
            ]
          },
          "execution_count": 2,
          "metadata": {},
          "output_type": "execute_result"
        }
      ],
      "source": [
        "raw = pd.read_csv('onlinefraud.csv')\n",
        "raw.head()"
      ]
    },
    {
      "cell_type": "code",
      "execution_count": 3,
      "metadata": {
        "id": "UGngLsRzkPDW"
      },
      "outputs": [],
      "source": [
        "raw = raw.dropna()  # one line had nan value"
      ]
    },
    {
      "cell_type": "code",
      "execution_count": 4,
      "metadata": {
        "id": "wHsZtnCBkPAH"
      },
      "outputs": [],
      "source": [
        "raw = raw.drop(columns=['nameOrig','nameDest']) # remove 2 useless columns"
      ]
    },
    {
      "cell_type": "code",
      "execution_count": 5,
      "metadata": {
        "id": "l8-eRMCFnXBp"
      },
      "outputs": [],
      "source": [
        "data = pd.get_dummies(raw, columns=['type'],drop_first=True).astype(int)"
      ]
    },
    {
      "cell_type": "code",
      "execution_count": 6,
      "metadata": {
        "id": "C8Zs-laPmOO9"
      },
      "outputs": [],
      "source": [
        "data = data.drop(columns=['step','isFlaggedFraud'])"
      ]
    },
    {
      "cell_type": "code",
      "execution_count": 7,
      "metadata": {
        "id": "77Zuo4FLrDlA"
      },
      "outputs": [],
      "source": [
        "X = data.drop('isFraud',axis=1)\n",
        "y = data['isFraud']"
      ]
    },
    {
      "cell_type": "code",
      "execution_count": 8,
      "metadata": {
        "id": "h3Xug7UQKFV8"
      },
      "outputs": [],
      "source": [
        "from imblearn.over_sampling import SMOTE\n",
        "from imblearn.under_sampling import RandomUnderSampler\n",
        "from imblearn.pipeline import Pipeline  # Use imbalanced-learn's Pipeline\n",
        "from sklearn.model_selection import train_test_split\n",
        "from sklearn.ensemble import RandomForestClassifier\n",
        "from sklearn.preprocessing import StandardScaler\n",
        "from sklearn.metrics import classification_report\n",
        "\n",
        "# 1. First split into train/test (keeping test imbalanced)\n",
        "X_train_raw, X_test, y_train_raw, y_test = train_test_split(X, y, test_size=0.2, stratify=y, random_state=42)\n",
        "\n",
        "# 2. Resample ONLY the training data\n",
        "pipeline = Pipeline([\n",
        "    ('smote', SMOTE(sampling_strategy=0.1, random_state=42)),  # 10% fraud\n",
        "    ('under', RandomUnderSampler(sampling_strategy=0.5, random_state=42))  # 50% fraud\n",
        "])\n",
        "X_train_bal, y_train_bal = pipeline.fit_resample(X_train_raw, y_train_raw)\n",
        "\n",
        "# 3. Scale the resampled data (if not already done)\n",
        "from sklearn.preprocessing import StandardScaler\n",
        "scaler = StandardScaler()\n",
        "X_train_sc = scaler.fit_transform(X_train_bal)  # Now X_train_sc matches y_train_bal\n",
        "X_test_sc = scaler.transform(X_test)"
      ]
    },
    {
      "cell_type": "code",
      "execution_count": 13,
      "metadata": {},
      "outputs": [
        {
          "data": {
            "text/plain": [
              "Index(['amount', 'oldbalanceOrg', 'newbalanceOrig', 'oldbalanceDest',\n",
              "       'newbalanceDest', 'type_CASH_OUT', 'type_DEBIT', 'type_PAYMENT',\n",
              "       'type_TRANSFER'],\n",
              "      dtype='object')"
            ]
          },
          "execution_count": 13,
          "metadata": {},
          "output_type": "execute_result"
        }
      ],
      "source": [
        "X_test.columns"
      ]
    },
    {
      "cell_type": "code",
      "execution_count": 16,
      "metadata": {},
      "outputs": [
        {
          "data": {
            "text/plain": [
              "787625     0\n",
              "4799820    0\n",
              "2661483    0\n",
              "444747     0\n",
              "609808     0\n",
              "          ..\n",
              "5591873    1\n",
              "5591874    1\n",
              "5591875    1\n",
              "5591876    1\n",
              "5591877    1\n",
              "Name: isFraud, Length: 1525056, dtype: int32"
            ]
          },
          "execution_count": 16,
          "metadata": {},
          "output_type": "execute_result"
        }
      ],
      "source": [
        "y_train_bal"
      ]
    },
    {
      "cell_type": "markdown",
      "metadata": {
        "id": "X6DTLzOtSlpp"
      },
      "source": [
        "#using X_train and y_train"
      ]
    },
    {
      "cell_type": "code",
      "execution_count": 21,
      "metadata": {
        "colab": {
          "base_uri": "https://localhost:8080/"
        },
        "id": "FjBT33ybT8k2",
        "outputId": "7e7fe73e-ea6e-47db-ccaf-1fa92ed32bb4"
      },
      "outputs": [
        {
          "name": "stdout",
          "output_type": "stream",
          "text": [
            "Training shapes - X: (1525056, 9), y: (1525056,)\n",
            "Test shapes - X: (1272524, 9), y: (1272524,)\n",
            "Class distribution - Train: [1016704  508352], Test: [1270881    1643]\n"
          ]
        },
        {
          "name": "stderr",
          "output_type": "stream",
          "text": [
            "c:\\Users\\Abhilove Goyal\\anaconda3\\Lib\\site-packages\\keras\\src\\layers\\core\\dense.py:87: UserWarning: Do not pass an `input_shape`/`input_dim` argument to a layer. When using Sequential models, prefer using an `Input(shape)` object as the first layer in the model instead.\n",
            "  super().__init__(activity_regularizer=activity_regularizer, **kwargs)\n"
          ]
        },
        {
          "name": "stdout",
          "output_type": "stream",
          "text": [
            "Epoch 1/100\n",
            "\u001b[1m2979/2979\u001b[0m \u001b[32m━━━━━━━━━━━━━━━━━━━━\u001b[0m\u001b[37m\u001b[0m \u001b[1m15s\u001b[0m 3ms/step - accuracy: 0.9135 - loss: 0.0064 - precision: 0.8780 - recall: 0.8648 - val_accuracy: 0.9949 - val_loss: 2.6828e-05 - val_precision: 0.1944 - val_recall: 0.9312\n",
            "Epoch 2/100\n",
            "\u001b[1m2979/2979\u001b[0m \u001b[32m━━━━━━━━━━━━━━━━━━━━\u001b[0m\u001b[37m\u001b[0m \u001b[1m10s\u001b[0m 3ms/step - accuracy: 0.9701 - loss: 6.4133e-04 - precision: 0.9538 - recall: 0.9564 - val_accuracy: 0.9615 - val_loss: 5.5986e-04 - val_precision: 0.0324 - val_recall: 0.9970\n",
            "Epoch 3/100\n",
            "\u001b[1m2979/2979\u001b[0m \u001b[32m━━━━━━━━━━━━━━━━━━━━\u001b[0m\u001b[37m\u001b[0m \u001b[1m10s\u001b[0m 3ms/step - accuracy: 0.9749 - loss: 4.6928e-04 - precision: 0.9597 - recall: 0.9653 - val_accuracy: 0.9801 - val_loss: 1.3677e-04 - val_precision: 0.0606 - val_recall: 0.9951\n",
            "Epoch 4/100\n",
            "\u001b[1m2979/2979\u001b[0m \u001b[32m━━━━━━━━━━━━━━━━━━━━\u001b[0m\u001b[37m\u001b[0m \u001b[1m10s\u001b[0m 3ms/step - accuracy: 0.9769 - loss: 4.0581e-04 - precision: 0.9619 - recall: 0.9691 - val_accuracy: 0.9920 - val_loss: 3.8057e-05 - val_precision: 0.1380 - val_recall: 0.9836\n",
            "Epoch 5/100\n",
            "\u001b[1m2979/2979\u001b[0m \u001b[32m━━━━━━━━━━━━━━━━━━━━\u001b[0m\u001b[37m\u001b[0m \u001b[1m10s\u001b[0m 3ms/step - accuracy: 0.9770 - loss: 4.0171e-04 - precision: 0.9616 - recall: 0.9698 - val_accuracy: 0.9892 - val_loss: 4.2456e-05 - val_precision: 0.1062 - val_recall: 0.9933\n",
            "Epoch 6/100\n",
            "\u001b[1m2979/2979\u001b[0m \u001b[32m━━━━━━━━━━━━━━━━━━━━\u001b[0m\u001b[37m\u001b[0m \u001b[1m10s\u001b[0m 3ms/step - accuracy: 0.9765 - loss: 4.1373e-04 - precision: 0.9608 - recall: 0.9690 - val_accuracy: 0.9903 - val_loss: 4.9199e-05 - val_precision: 0.1162 - val_recall: 0.9817\n",
            "Epoch 7/100\n",
            "\u001b[1m2979/2979\u001b[0m \u001b[32m━━━━━━━━━━━━━━━━━━━━\u001b[0m\u001b[37m\u001b[0m \u001b[1m10s\u001b[0m 3ms/step - accuracy: 0.9773 - loss: 3.9607e-04 - precision: 0.9620 - recall: 0.9701 - val_accuracy: 0.9833 - val_loss: 9.8075e-05 - val_precision: 0.0711 - val_recall: 0.9921\n",
            "Epoch 8/100\n",
            "\u001b[1m2979/2979\u001b[0m \u001b[32m━━━━━━━━━━━━━━━━━━━━\u001b[0m\u001b[37m\u001b[0m \u001b[1m10s\u001b[0m 3ms/step - accuracy: 0.9778 - loss: 3.7860e-04 - precision: 0.9625 - recall: 0.9713 - val_accuracy: 0.9967 - val_loss: 9.8916e-06 - val_precision: 0.2708 - val_recall: 0.9337\n",
            "Epoch 9/100\n",
            "\u001b[1m2979/2979\u001b[0m \u001b[32m━━━━━━━━━━━━━━━━━━━━\u001b[0m\u001b[37m\u001b[0m \u001b[1m12s\u001b[0m 4ms/step - accuracy: 0.9789 - loss: 3.3303e-04 - precision: 0.9639 - recall: 0.9729 - val_accuracy: 0.9791 - val_loss: 1.5798e-04 - val_precision: 0.0579 - val_recall: 0.9951\n",
            "Epoch 10/100\n",
            "\u001b[1m2979/2979\u001b[0m \u001b[32m━━━━━━━━━━━━━━━━━━━━\u001b[0m\u001b[37m\u001b[0m \u001b[1m10s\u001b[0m 3ms/step - accuracy: 0.9793 - loss: 3.2993e-04 - precision: 0.9643 - recall: 0.9740 - val_accuracy: 0.9905 - val_loss: 3.8351e-05 - val_precision: 0.1193 - val_recall: 0.9963\n",
            "Epoch 11/100\n",
            "\u001b[1m2979/2979\u001b[0m \u001b[32m━━━━━━━━━━━━━━━━━━━━\u001b[0m\u001b[37m\u001b[0m \u001b[1m10s\u001b[0m 3ms/step - accuracy: 0.9785 - loss: 3.5243e-04 - precision: 0.9633 - recall: 0.9725 - val_accuracy: 0.9961 - val_loss: 1.1706e-05 - val_precision: 0.2425 - val_recall: 0.9671\n",
            "Epoch 12/100\n",
            "\u001b[1m2979/2979\u001b[0m \u001b[32m━━━━━━━━━━━━━━━━━━━━\u001b[0m\u001b[37m\u001b[0m \u001b[1m10s\u001b[0m 3ms/step - accuracy: 0.9800 - loss: 3.1682e-04 - precision: 0.9653 - recall: 0.9748 - val_accuracy: 0.9985 - val_loss: 2.7763e-06 - val_precision: 0.4517 - val_recall: 0.9160\n",
            "\u001b[1m39767/39767\u001b[0m \u001b[32m━━━━━━━━━━━━━━━━━━━━\u001b[0m\u001b[37m\u001b[0m \u001b[1m27s\u001b[0m 671us/step\n"
          ]
        }
      ],
      "source": [
        "import tensorflow as tf\n",
        "from tensorflow.keras.models import Sequential\n",
        "from tensorflow.keras.layers import Dense, Dropout, BatchNormalization\n",
        "from tensorflow.keras.callbacks import EarlyStopping\n",
        "from sklearn.metrics import precision_recall_curve\n",
        "import numpy as np\n",
        "from sklearn.preprocessing import StandardScaler\n",
        "from keras.metrics import Recall\n",
        "\n",
        "# 1. Verify and prepare data\n",
        "y_train_bal = np.array(y_train_bal).astype(int)\n",
        "y_test = np.array(y_test).astype(int)\n",
        "\n",
        "print(f\"Training shapes - X: {X_train_sc.shape}, y: {y_train_bal.shape}\")\n",
        "print(f\"Test shapes - X: {X_test_sc.shape}, y: {y_test.shape}\")\n",
        "print(f\"Class distribution - Train: {np.bincount(y_train_bal)}, Test: {np.bincount(y_test)}\")\n",
        "\n",
        "# 2. Build model\n",
        "model = Sequential([\n",
        "    Dense(128, activation='relu', input_shape=(X_train_sc.shape[1],)),\n",
        "    BatchNormalization(),\n",
        "    Dropout(0.5),\n",
        "    Dense(64, activation='relu'),\n",
        "    BatchNormalization(),\n",
        "    Dropout(0.5),\n",
        "    Dense(1, activation='sigmoid')\n",
        "])\n",
        "\n",
        "# 3. Focal loss\n",
        "def focal_loss(y_true, y_pred, alpha=0.25, gamma=2):\n",
        "    cross_entropy = tf.keras.losses.binary_crossentropy(y_true, y_pred)\n",
        "    p_t = y_true * y_pred + (1 - y_true) * (1 - y_pred)\n",
        "    modulating_factor = tf.pow(1.0 - p_t, gamma)\n",
        "    return tf.reduce_mean(alpha * modulating_factor * cross_entropy)\n",
        "\n",
        "model.compile(\n",
        "    optimizer=tf.keras.optimizers.Adam(learning_rate=0.001),\n",
        "    loss=focal_loss,\n",
        "    metrics=[\n",
        "        'accuracy',\n",
        "        tf.keras.metrics.Precision(name='precision'),\n",
        "        tf.keras.metrics.Recall(name='recall')\n",
        "    ]\n",
        ")\n",
        "\n",
        "# 4. Class weights\n",
        "class_weight = {\n",
        "    0: 1,\n",
        "    1: np.sum(y_train_bal == 0) / np.sum(y_train_bal == 1)\n",
        "}\n",
        "\n",
        "# 5. Train model\n",
        "history = model.fit(\n",
        "    X_train_sc, y_train_bal,\n",
        "    validation_data=(X_test_sc, y_test),\n",
        "    class_weight=class_weight,\n",
        "    epochs=100,\n",
        "    batch_size=512,\n",
        "    callbacks=[\n",
        "        EarlyStopping(patience=10, monitor='val_recall', mode='max', restore_best_weights=True)\n",
        "    ],\n",
        "    verbose=1\n",
        ")\n",
        "\n",
        "# 6. Predict with fixed threshold\n",
        "y_pred_proba = model.predict(X_test_sc).ravel()\n",
        "threshold = 0.93\n",
        "y_pred = (y_pred_proba >= threshold).astype(int)\n"
      ]
    },
    {
      "cell_type": "code",
      "execution_count": 22,
      "metadata": {
        "colab": {
          "base_uri": "https://localhost:8080/"
        },
        "id": "TOfuEXtT7a0v",
        "outputId": "4d473db1-dbac-448d-ff94-922dc8bed0f9"
      },
      "outputs": [
        {
          "name": "stdout",
          "output_type": "stream",
          "text": [
            "\n",
            "Classification Report:\n",
            "              precision    recall  f1-score   support\n",
            "\n",
            "   Non-Fraud       1.00      0.98      0.99   1270881\n",
            "       Fraud       0.06      1.00      0.12      1643\n",
            "\n",
            "    accuracy                           0.98   1272524\n",
            "   macro avg       0.53      0.99      0.56   1272524\n",
            "weighted avg       1.00      0.98      0.99   1272524\n",
            "\n",
            "[[1247221   23660]\n",
            " [      6    1637]]\n"
          ]
        }
      ],
      "source": [
        "from sklearn.metrics import confusion_matrix\n",
        "y_pred = (y_pred_proba >= 0.8).astype(int)\n",
        "print(\"\\nClassification Report:\")\n",
        "print(classification_report(y_test, y_pred, target_names=['Non-Fraud', 'Fraud']))\n",
        "matrix = confusion_matrix(y_test,y_pred)\n",
        "print(matrix)"
      ]
    },
    {
      "cell_type": "code",
      "execution_count": null,
      "metadata": {},
      "outputs": [
        {
          "name": "stderr",
          "output_type": "stream",
          "text": [
            "WARNING:absl:You are saving your model as an HDF5 file via `model.save()` or `keras.saving.save_model(model)`. This file format is considered legacy. We recommend using instead the native Keras format, e.g. `model.save('my_model.keras')` or `keras.saving.save_model(model, 'my_model.keras')`. \n"
          ]
        },
        {
          "data": {
            "text/plain": [
              "['scaler.save']"
            ]
          },
          "execution_count": 24,
          "metadata": {},
          "output_type": "execute_result"
        }
      ],
      "source": [
        "# # Save the model in HDF5 format\n",
        "# model.save(\"ann_model.h5\")\n",
        "\n",
        "# # Optional: Save the scaler too if you plan to use this model later\n",
        "# import joblib\n",
        "# joblib.dump(scaler, \"scaler.save\")\n"
      ]
    },
    {
      "cell_type": "markdown",
      "metadata": {
        "id": "j_L8n6dp88qN"
      },
      "source": [
        "#Creating RF"
      ]
    },
    {
      "cell_type": "code",
      "execution_count": 39,
      "metadata": {
        "id": "rNDjBHvU8wEy"
      },
      "outputs": [
        {
          "name": "stdout",
          "output_type": "stream",
          "text": [
            "F1 CV Score: 0.998065627329531\n"
          ]
        }
      ],
      "source": [
        "from sklearn.model_selection import cross_val_score\n",
        "from sklearn.ensemble import RandomForestClassifier\n",
        "\n",
        "rf = RandomForestClassifier(n_estimators=20,random_state=42)\n",
        "scores = cross_val_score(rf, X_train_sc, y_train_bal, scoring='f1', cv=5)\n",
        "print(\"F1 CV Score:\", scores.mean())\n"
      ]
    },
    {
      "cell_type": "code",
      "execution_count": 40,
      "metadata": {},
      "outputs": [
        {
          "name": "stdout",
          "output_type": "stream",
          "text": [
            "Test F1: 0.122 vs CV F1: 0.998\n"
          ]
        }
      ],
      "source": [
        "# Compare with test set performance\n",
        "from sklearn.metrics import f1_score\n",
        "test_f1 = f1_score(y_test, y_pred)\n",
        "print(f\"Test F1: {test_f1:.3f} vs CV F1: {0.998:.3f}\")"
      ]
    },
    {
      "cell_type": "code",
      "execution_count": 35,
      "metadata": {},
      "outputs": [
        {
          "name": "stderr",
          "output_type": "stream",
          "text": [
            "c:\\Users\\Abhilove Goyal\\anaconda3\\Lib\\site-packages\\sklearn\\base.py:318: UserWarning: Trying to unpickle estimator DecisionTreeClassifier from version 1.6.1 when using version 1.2.2. This might lead to breaking code or invalid results. Use at your own risk. For more info please refer to:\n",
            "https://scikit-learn.org/stable/model_persistence.html#security-maintainability-limitations\n",
            "  warnings.warn(\n"
          ]
        },
        {
          "ename": "ValueError",
          "evalue": "node array from the pickle has an incompatible dtype:\n- expected: [('left_child', '<i8'), ('right_child', '<i8'), ('feature', '<i8'), ('threshold', '<f8'), ('impurity', '<f8'), ('n_node_samples', '<i8'), ('weighted_n_node_samples', '<f8')]\n- got     : {'names': ['left_child', 'right_child', 'feature', 'threshold', 'impurity', 'n_node_samples', 'weighted_n_node_samples', 'missing_go_to_left'], 'formats': ['<i8', '<i8', '<i8', '<f8', '<f8', '<i8', '<f8', 'u1'], 'offsets': [0, 8, 16, 24, 32, 40, 48, 56], 'itemsize': 64}",
          "output_type": "error",
          "traceback": [
            "\u001b[1;31m---------------------------------------------------------------------------\u001b[0m",
            "\u001b[1;31mValueError\u001b[0m                                Traceback (most recent call last)",
            "Cell \u001b[1;32mIn[35], line 4\u001b[0m\n\u001b[0;32m      1\u001b[0m \u001b[38;5;66;03m# import joblib\u001b[39;00m\n\u001b[0;32m      2\u001b[0m \u001b[38;5;66;03m# joblib.dump(rf, \"rf_fraud.joblib\")\u001b[39;00m\n\u001b[1;32m----> 4\u001b[0m rf_model \u001b[38;5;241m=\u001b[39m joblib\u001b[38;5;241m.\u001b[39mload(\u001b[38;5;124m\"\u001b[39m\u001b[38;5;124mmodels/rf_fraud_detector.joblib\u001b[39m\u001b[38;5;124m\"\u001b[39m)\n",
            "File \u001b[1;32mc:\\Users\\Abhilove Goyal\\anaconda3\\Lib\\site-packages\\joblib\\numpy_pickle.py:658\u001b[0m, in \u001b[0;36mload\u001b[1;34m(filename, mmap_mode)\u001b[0m\n\u001b[0;32m    652\u001b[0m             \u001b[38;5;28;01mif\u001b[39;00m \u001b[38;5;28misinstance\u001b[39m(fobj, \u001b[38;5;28mstr\u001b[39m):\n\u001b[0;32m    653\u001b[0m                 \u001b[38;5;66;03m# if the returned file object is a string, this means we\u001b[39;00m\n\u001b[0;32m    654\u001b[0m                 \u001b[38;5;66;03m# try to load a pickle file generated with an version of\u001b[39;00m\n\u001b[0;32m    655\u001b[0m                 \u001b[38;5;66;03m# Joblib so we load it with joblib compatibility function.\u001b[39;00m\n\u001b[0;32m    656\u001b[0m                 \u001b[38;5;28;01mreturn\u001b[39;00m load_compatibility(fobj)\n\u001b[1;32m--> 658\u001b[0m             obj \u001b[38;5;241m=\u001b[39m _unpickle(fobj, filename, mmap_mode)\n\u001b[0;32m    659\u001b[0m \u001b[38;5;28;01mreturn\u001b[39;00m obj\n",
            "File \u001b[1;32mc:\\Users\\Abhilove Goyal\\anaconda3\\Lib\\site-packages\\joblib\\numpy_pickle.py:577\u001b[0m, in \u001b[0;36m_unpickle\u001b[1;34m(fobj, filename, mmap_mode)\u001b[0m\n\u001b[0;32m    575\u001b[0m obj \u001b[38;5;241m=\u001b[39m \u001b[38;5;28;01mNone\u001b[39;00m\n\u001b[0;32m    576\u001b[0m \u001b[38;5;28;01mtry\u001b[39;00m:\n\u001b[1;32m--> 577\u001b[0m     obj \u001b[38;5;241m=\u001b[39m unpickler\u001b[38;5;241m.\u001b[39mload()\n\u001b[0;32m    578\u001b[0m     \u001b[38;5;28;01mif\u001b[39;00m unpickler\u001b[38;5;241m.\u001b[39mcompat_mode:\n\u001b[0;32m    579\u001b[0m         warnings\u001b[38;5;241m.\u001b[39mwarn(\u001b[38;5;124m\"\u001b[39m\u001b[38;5;124mThe file \u001b[39m\u001b[38;5;124m'\u001b[39m\u001b[38;5;132;01m%s\u001b[39;00m\u001b[38;5;124m'\u001b[39m\u001b[38;5;124m has been generated with a \u001b[39m\u001b[38;5;124m\"\u001b[39m\n\u001b[0;32m    580\u001b[0m                       \u001b[38;5;124m\"\u001b[39m\u001b[38;5;124mjoblib version less than 0.10. \u001b[39m\u001b[38;5;124m\"\u001b[39m\n\u001b[0;32m    581\u001b[0m                       \u001b[38;5;124m\"\u001b[39m\u001b[38;5;124mPlease regenerate this pickle file.\u001b[39m\u001b[38;5;124m\"\u001b[39m\n\u001b[0;32m    582\u001b[0m                       \u001b[38;5;241m%\u001b[39m filename,\n\u001b[0;32m    583\u001b[0m                       \u001b[38;5;167;01mDeprecationWarning\u001b[39;00m, stacklevel\u001b[38;5;241m=\u001b[39m\u001b[38;5;241m3\u001b[39m)\n",
            "File \u001b[1;32mc:\\Users\\Abhilove Goyal\\anaconda3\\Lib\\pickle.py:1213\u001b[0m, in \u001b[0;36m_Unpickler.load\u001b[1;34m(self)\u001b[0m\n\u001b[0;32m   1211\u001b[0m             \u001b[38;5;28;01mraise\u001b[39;00m \u001b[38;5;167;01mEOFError\u001b[39;00m\n\u001b[0;32m   1212\u001b[0m         \u001b[38;5;28;01massert\u001b[39;00m \u001b[38;5;28misinstance\u001b[39m(key, bytes_types)\n\u001b[1;32m-> 1213\u001b[0m         dispatch[key[\u001b[38;5;241m0\u001b[39m]](\u001b[38;5;28mself\u001b[39m)\n\u001b[0;32m   1214\u001b[0m \u001b[38;5;28;01mexcept\u001b[39;00m _Stop \u001b[38;5;28;01mas\u001b[39;00m stopinst:\n\u001b[0;32m   1215\u001b[0m     \u001b[38;5;28;01mreturn\u001b[39;00m stopinst\u001b[38;5;241m.\u001b[39mvalue\n",
            "File \u001b[1;32mc:\\Users\\Abhilove Goyal\\anaconda3\\Lib\\site-packages\\joblib\\numpy_pickle.py:402\u001b[0m, in \u001b[0;36mNumpyUnpickler.load_build\u001b[1;34m(self)\u001b[0m\n\u001b[0;32m    394\u001b[0m \u001b[38;5;28;01mdef\u001b[39;00m \u001b[38;5;21mload_build\u001b[39m(\u001b[38;5;28mself\u001b[39m):\n\u001b[0;32m    395\u001b[0m \u001b[38;5;250m    \u001b[39m\u001b[38;5;124;03m\"\"\"Called to set the state of a newly created object.\u001b[39;00m\n\u001b[0;32m    396\u001b[0m \n\u001b[0;32m    397\u001b[0m \u001b[38;5;124;03m    We capture it to replace our place-holder objects, NDArrayWrapper or\u001b[39;00m\n\u001b[1;32m   (...)\u001b[0m\n\u001b[0;32m    400\u001b[0m \u001b[38;5;124;03m    NDArrayWrapper is used for backward compatibility with joblib <= 0.9.\u001b[39;00m\n\u001b[0;32m    401\u001b[0m \u001b[38;5;124;03m    \"\"\"\u001b[39;00m\n\u001b[1;32m--> 402\u001b[0m     Unpickler\u001b[38;5;241m.\u001b[39mload_build(\u001b[38;5;28mself\u001b[39m)\n\u001b[0;32m    404\u001b[0m     \u001b[38;5;66;03m# For backward compatibility, we support NDArrayWrapper objects.\u001b[39;00m\n\u001b[0;32m    405\u001b[0m     \u001b[38;5;28;01mif\u001b[39;00m \u001b[38;5;28misinstance\u001b[39m(\u001b[38;5;28mself\u001b[39m\u001b[38;5;241m.\u001b[39mstack[\u001b[38;5;241m-\u001b[39m\u001b[38;5;241m1\u001b[39m], (NDArrayWrapper, NumpyArrayWrapper)):\n",
            "File \u001b[1;32mc:\\Users\\Abhilove Goyal\\anaconda3\\Lib\\pickle.py:1718\u001b[0m, in \u001b[0;36m_Unpickler.load_build\u001b[1;34m(self)\u001b[0m\n\u001b[0;32m   1716\u001b[0m setstate \u001b[38;5;241m=\u001b[39m \u001b[38;5;28mgetattr\u001b[39m(inst, \u001b[38;5;124m\"\u001b[39m\u001b[38;5;124m__setstate__\u001b[39m\u001b[38;5;124m\"\u001b[39m, \u001b[38;5;28;01mNone\u001b[39;00m)\n\u001b[0;32m   1717\u001b[0m \u001b[38;5;28;01mif\u001b[39;00m setstate \u001b[38;5;129;01mis\u001b[39;00m \u001b[38;5;129;01mnot\u001b[39;00m \u001b[38;5;28;01mNone\u001b[39;00m:\n\u001b[1;32m-> 1718\u001b[0m     setstate(state)\n\u001b[0;32m   1719\u001b[0m     \u001b[38;5;28;01mreturn\u001b[39;00m\n\u001b[0;32m   1720\u001b[0m slotstate \u001b[38;5;241m=\u001b[39m \u001b[38;5;28;01mNone\u001b[39;00m\n",
            "File \u001b[1;32msklearn\\tree\\_tree.pyx:676\u001b[0m, in \u001b[0;36msklearn.tree._tree.Tree.__setstate__\u001b[1;34m()\u001b[0m\n",
            "File \u001b[1;32msklearn\\tree\\_tree.pyx:1364\u001b[0m, in \u001b[0;36msklearn.tree._tree._check_node_ndarray\u001b[1;34m()\u001b[0m\n",
            "\u001b[1;31mValueError\u001b[0m: node array from the pickle has an incompatible dtype:\n- expected: [('left_child', '<i8'), ('right_child', '<i8'), ('feature', '<i8'), ('threshold', '<f8'), ('impurity', '<f8'), ('n_node_samples', '<i8'), ('weighted_n_node_samples', '<f8')]\n- got     : {'names': ['left_child', 'right_child', 'feature', 'threshold', 'impurity', 'n_node_samples', 'weighted_n_node_samples', 'missing_go_to_left'], 'formats': ['<i8', '<i8', '<i8', '<f8', '<f8', '<i8', '<f8', 'u1'], 'offsets': [0, 8, 16, 24, 32, 40, 48, 56], 'itemsize': 64}"
          ]
        }
      ],
      "source": [
        "# import joblib\n",
        "# joblib.dump(rf, \"rf_fraud.joblib\")\n",
        "\n",
        "rf_model = joblib.load(\"models/rf_fraud_detector.joblib\")\n"
      ]
    },
    {
      "cell_type": "code",
      "execution_count": 32,
      "metadata": {
        "id": "ql7vIRfV8v-e"
      },
      "outputs": [
        {
          "name": "stderr",
          "output_type": "stream",
          "text": [
            "c:\\Users\\Abhilove Goyal\\anaconda3\\Lib\\site-packages\\sklearn\\base.py:432: UserWarning: X has feature names, but RandomForestClassifier was fitted without feature names\n",
            "  warnings.warn(\n"
          ]
        }
      ],
      "source": [
        "from sklearn.metrics import precision_recall_curve\n",
        "\n",
        "# Get probabilities\n",
        "y_probs_rf = rf.predict_proba(X_test)[:,1]\n",
        "\n",
        "# Find threshold for 85% recall\n",
        "precision, recall, thresholds = precision_recall_curve(y_test, y_probs_rf)\n",
        "target_recall = 0.85\n",
        "optimal_idx = np.argmax(recall >= target_recall)\n",
        "optimal_threshold_rf = thresholds[optimal_idx]\n",
        "\n",
        "# Apply threshold\n",
        "y_pred_tuned = (y_probs_rf >= 0.90).astype(int)"
      ]
    },
    {
      "cell_type": "code",
      "execution_count": 33,
      "metadata": {
        "colab": {
          "base_uri": "https://localhost:8080/",
          "height": 705
        },
        "id": "fpMyl07h8v8N",
        "outputId": "af6f2a75-7ec0-41f9-a9ca-36117c3557e4"
      },
      "outputs": [
        {
          "name": "stdout",
          "output_type": "stream",
          "text": [
            "Classification Report:\n"
          ]
        },
        {
          "name": "stderr",
          "output_type": "stream",
          "text": [
            "c:\\Users\\Abhilove Goyal\\anaconda3\\Lib\\site-packages\\sklearn\\metrics\\_classification.py:1344: UndefinedMetricWarning: Precision and F-score are ill-defined and being set to 0.0 in labels with no predicted samples. Use `zero_division` parameter to control this behavior.\n",
            "  _warn_prf(average, modifier, msg_start, len(result))\n",
            "c:\\Users\\Abhilove Goyal\\anaconda3\\Lib\\site-packages\\sklearn\\metrics\\_classification.py:1344: UndefinedMetricWarning: Precision and F-score are ill-defined and being set to 0.0 in labels with no predicted samples. Use `zero_division` parameter to control this behavior.\n",
            "  _warn_prf(average, modifier, msg_start, len(result))\n",
            "c:\\Users\\Abhilove Goyal\\anaconda3\\Lib\\site-packages\\sklearn\\metrics\\_classification.py:1344: UndefinedMetricWarning: Precision and F-score are ill-defined and being set to 0.0 in labels with no predicted samples. Use `zero_division` parameter to control this behavior.\n",
            "  _warn_prf(average, modifier, msg_start, len(result))\n"
          ]
        },
        {
          "name": "stdout",
          "output_type": "stream",
          "text": [
            "              precision    recall  f1-score   support\n",
            "\n",
            "           0       1.00      1.00      1.00   1270881\n",
            "           1       0.00      0.00      0.00      1643\n",
            "\n",
            "    accuracy                           1.00   1272524\n",
            "   macro avg       0.50      0.50      0.50   1272524\n",
            "weighted avg       1.00      1.00      1.00   1272524\n",
            "\n",
            "\n",
            "Confusion Matrix:\n",
            "[[1270881       0]\n",
            " [   1643       0]]\n"
          ]
        },
        {
          "data": {
            "image/png": "[encoded data removed]",
            "text/plain": [
              "<Figure size 640x480 with 1 Axes>"
            ]
          },
          "metadata": {},
          "output_type": "display_data"
        }
      ],
      "source": [
        "import matplotlib.pyplot as plt\n",
        "print(\"Classification Report:\")\n",
        "print(classification_report(y_test, y_pred_tuned))\n",
        "\n",
        "print(\"\\nConfusion Matrix:\")\n",
        "print(confusion_matrix(y_test, y_pred_tuned))\n",
        "\n",
        "# Feature Importance\n",
        "importances = rf.feature_importances_\n",
        "plt.barh(range(X_train_sc.shape[1]), importances)\n",
        "plt.title(\"Feature Importance\")\n",
        "plt.show()"
      ]
    },
    {
      "cell_type": "markdown",
      "metadata": {
        "id": "o6bMBavtD3wX"
      },
      "source": [
        "#META MODEL"
      ]
    },
    {
      "cell_type": "code",
      "execution_count": null,
      "metadata": {
        "colab": {
          "base_uri": "https://localhost:8080/"
        },
        "id": "OZvKx-fx8v5y",
        "outputId": "21335e08-7d42-43fb-ce20-9bf470ca1f05"
      },
      "outputs": [
        {
          "name": "stdout",
          "output_type": "stream",
          "text": [
            "\u001b[1m5456/5456\u001b[0m \u001b[32m━━━━━━━━━━━━━━━━━━━━\u001b[0m\u001b[37m\u001b[0m \u001b[1m9s\u001b[0m 2ms/step\n"
          ]
        }
      ],
      "source": [
        "# Your current ANN (keep threshold=0.9)\n",
        "ann_recall_probs = model.predict(X_test_sc).ravel()\n",
        "ann_preds = (ann_recall_probs >= 0.9).astype(int)  # 88% recall\n",
        "\n",
        "from sklearn.ensemble import RandomForestClassifier\n",
        "\n",
        "# Train RF to maximize precision\n",
        "rf = RandomForestClassifier(\n",
        "    class_weight={0:1, 1:100},  # Heavy penalty for missing fraud\n",
        "    max_depth=5,                # Prevent overfitting\n",
        "    n_estimators=200,\n",
        "    random_state=42\n",
        ")\n",
        "rf.fit(X_train_sc, y_train_bal)\n",
        "\n",
        "# Get RF probabilities (for precision)\n",
        "rf_precision_probs = rf.predict_proba(X_test_sc)[:, 1]\n",
        "rf_preds = (rf_precision_probs >= 0.95).astype(int)  # High threshold"
      ]
    },
    {
      "cell_type": "code",
      "execution_count": null,
      "metadata": {
        "id": "QdiRWQSS8v3c"
      },
      "outputs": [],
      "source": [
        "# Only flag as fraud if BOTH models agree\n",
        "ensemble_preds = np.logical_and(ann_preds == 1, rf_preds == 1).astype(int)"
      ]
    },
    {
      "cell_type": "code",
      "execution_count": null,
      "metadata": {
        "id": "SnFqUG908v1A"
      },
      "outputs": [],
      "source": [
        "# Combine probabilities (adjust weights as needed)\n",
        "combined_probs = 0.7*ann_recall_probs + 0.3*rf_precision_probs\n",
        "ensemble_preds = (combined_probs >= 0.5).astype(int)"
      ]
    },
    {
      "cell_type": "code",
      "execution_count": null,
      "metadata": {
        "colab": {
          "base_uri": "https://localhost:8080/"
        },
        "id": "i2OujPVQAGNv",
        "outputId": "1cd912d3-edb5-453f-b288-c9d8dbfba716"
      },
      "outputs": [
        {
          "name": "stdout",
          "output_type": "stream",
          "text": [
            "\u001b[1m3926/3926\u001b[0m \u001b[32m━━━━━━━━━━━━━━━━━━━━\u001b[0m\u001b[37m\u001b[0m \u001b[1m15s\u001b[0m 4ms/step - accuracy: 0.9100 - loss: 0.0041 - precision: 0.8813 - recall: 0.8404\n",
            "\u001b[1m1309/1309\u001b[0m \u001b[32m━━━━━━━━━━━━━━━━━━━━\u001b[0m\u001b[37m\u001b[0m \u001b[1m2s\u001b[0m 2ms/step\n",
            "\u001b[1m1309/1309\u001b[0m \u001b[32m━━━━━━━━━━━━━━━━━━━━\u001b[0m\u001b[37m\u001b[0m \u001b[1m2s\u001b[0m 1ms/step\n",
            "              precision    recall  f1-score   support\n",
            "\n",
            "           0       1.00      0.83      0.91     27872\n",
            "           1       0.75      1.00      0.86     14002\n",
            "\n",
            "    accuracy                           0.89     41874\n",
            "   macro avg       0.87      0.92      0.88     41874\n",
            "weighted avg       0.92      0.89      0.89     41874\n",
            "\n"
          ]
        }
      ],
      "source": [
        "from sklearn.model_selection import train_test_split\n",
        "from sklearn.linear_model import LogisticRegression\n",
        "\n",
        "# 1. First split: Train vs (Validation + Test)\n",
        "X_train_main, X_val_test, y_train_main, y_val_test = train_test_split(\n",
        "    X_train_sc, y_train_bal, test_size=0.4, random_state=42\n",
        ")\n",
        "\n",
        "# 2. Second split: Validation vs Test\n",
        "X_val, X_test, y_val, y_test = train_test_split(\n",
        "    X_val_test, y_val_test, test_size=0.5, random_state=42\n",
        ")\n",
        "\n",
        "# 3. Train base models on MAIN training set\n",
        "model.fit(X_train_main, y_train_main)\n",
        "rf.fit(X_train_main, y_train_main)\n",
        "\n",
        "# 4. Generate level-1 features (VAL set)\n",
        "X_level1 = np.column_stack([\n",
        "    model.predict(X_val).ravel(),  # ANN predictions\n",
        "    rf.predict_proba(X_val)[:, 1]     # RF probabilities\n",
        "])\n",
        "\n",
        "# 5. Train meta-model on validation predictions\n",
        "meta_model = LogisticRegression(class_weight={0:1, 1:50})\n",
        "meta_model.fit(X_level1, y_val)\n",
        "\n",
        "# 6. Generate test predictions (NO LEAKAGE)\n",
        "X_test_level1 = np.column_stack([\n",
        "    model.predict(X_test).ravel(),\n",
        "    rf.predict_proba(X_test)[:, 1]\n",
        "])\n",
        "ensemble_preds = meta_model.predict(X_test_level1)\n",
        "\n",
        "# 7. Evaluate\n",
        "print(classification_report(y_test, ensemble_preds))"
      ]
    },
    {
      "cell_type": "code",
      "execution_count": null,
      "metadata": {
        "id": "P3VonidgDbgT"
      },
      "outputs": [],
      "source": []
    },
    {
      "cell_type": "code",
      "execution_count": null,
      "metadata": {
        "id": "5dojhusIDbcx"
      },
      "outputs": [],
      "source": []
    }
  ],
  "metadata": {
    "colab": {
      "provenance": []
    },
    "kernelspec": {
      "display_name": "base",
      "language": "python",
      "name": "python3"
    },
    "language_info": {
      "codemirror_mode": {
        "name": "ipython",
        "version": 3
      },
      "file_extension": ".py",
      "mimetype": "text/x-python",
      "name": "python",
      "nbconvert_exporter": "python",
      "pygments_lexer": "ipython3",
      "version": "3.11.7"
    }
  },
  "nbformat": 4,
  "nbformat_minor": 0
}
